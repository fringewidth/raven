{
 "cells": [
  {
   "cell_type": "code",
   "execution_count": null,
   "metadata": {},
   "outputs": [],
   "source": [
    "# RAVEN: A quadratic alternative to PCA\n",
    "\n",
    "import pandas as pd\n",
    "data = pd.read_csv('train10000.csv').drop(columns=['sample_id', 'Unnamed: 0'])\n",
    "x = data.iloc[:, :556]\n",
    "y = data.iloc[:, 556] "
   ]
  },
  {
   "cell_type": "code",
   "execution_count": null,
   "metadata": {},
   "outputs": [],
   "source": [
    "#generate pairs of attributes\n",
    "\n",
    "from itertools import combinations\n",
    "attributes = x.columns.tolist()\n",
    "pairs = list(combinations(attributes,2))"
   ]
  },
  {
   "cell_type": "code",
   "execution_count": null,
   "metadata": {},
   "outputs": [],
   "source": [
    "# calculate r squared for each pair based on a sample\n",
    "\n",
    "from scipy import stats\n",
    "\n",
    "sample_size = 100\n",
    "\n",
    "x_sample = x.sample(sample_size)\n",
    "\n",
    "r_squared = {}\n",
    "\n",
    "for pair in pairs:\n",
    "    try:\n",
    "        xreg = pair[0]\n",
    "        yreg = pair[1]\n",
    "\n",
    "        reg = stats.linregress(x_sample[xreg],x_sample[yreg])\n",
    "        r_squared[xreg + \" \" + yreg] = reg.rvalue**2\n",
    "    except:\n",
    "        continue"
   ]
  },
  {
   "cell_type": "code",
   "execution_count": null,
   "metadata": {},
   "outputs": [],
   "source": [
    "# create a graph with the r squared values, and normalize weights\n",
    "\n",
    "import networkx as nx\n",
    "\n",
    "def transform_weight(weight, min_old, max_old, min_new, max_new):\n",
    "    return (weight - min_old) / (max_old - min_old) * (max_new - min_new) + min_new\n",
    "\n",
    "def make_graph(edges, threshold=0.95):\n",
    "    G = nx.Graph()\n",
    "    for key, value in edges.items():\n",
    "        if value > threshold:\n",
    "            u, v = key.split()\n",
    "            G.add_nodes_from([u,v])\n",
    "            G.add_edge(u, v, weight=value)\n",
    "\n",
    "    for u, v, w in G.edges(data=True):\n",
    "        w['weight'] = transform_weight(w['weight'], 1, 1/threshold, 0.5, 1)\n",
    "\n",
    "    return G\n",
    "\n",
    "G = make_graph(r_squared)"
   ]
  },
  {
   "cell_type": "code",
   "execution_count": null,
   "metadata": {},
   "outputs": [],
   "source": [
    "# For each connected component, calculate the closeness centre, visualise\n",
    "\n",
    "from matplotlib import pyplot as plt\n",
    "import math\n",
    "import networkx as nx\n",
    "\n",
    "connected_components = list(nx.connected_components(G))\n",
    "essential_attrs = []\n",
    "\n",
    "num_components = len(connected_components)\n",
    "numcols = 3 \n",
    "numrows = math.ceil(num_components / numcols)\n",
    "\n",
    "fig, axes = plt.subplots(numrows, numcols, figsize=(numcols * 4, numrows * 4))\n",
    "fig.tight_layout(pad=4.0)\n",
    "\n",
    "axes = axes.flatten()\n",
    "\n",
    "for i, component in enumerate(connected_components):\n",
    "    subgraph = G.subgraph(component)\n",
    "    closeness_centrality = nx.closeness_centrality(subgraph)\n",
    "    closeness_center = max(closeness_centrality, key=closeness_centrality.get)\n",
    "    essential_attrs.append(closeness_center)\n",
    "\n",
    "    colors = ['red' if node == closeness_center else 'blue' for node in subgraph.nodes()]\n",
    "    nx.draw(subgraph, ax=axes[i], with_labels=True, node_color=colors, font_size=6, node_size=15)\n",
    "    axes[i].set_title(f\"Component {i+1} \\n closeness center: {closeness_center}\")\n",
    "\n",
    "for j in range(i + 1, len(axes)):\n",
    "    axes[j].axis('off')\n",
    "\n",
    "plt.show()\n"
   ]
  },
  {
   "cell_type": "code",
   "execution_count": null,
   "metadata": {},
   "outputs": [],
   "source": [
    "# train model without removing any attributes\n",
    "\n",
    "train_size = int(len(x) * 0.8)\n",
    "\n",
    "x_train = x.iloc[:train_size, :]\n",
    "y_train = y.iloc[:train_size]\n",
    "x_test = x.iloc[train_size:, :]\n",
    "y_test = y.iloc[train_size:]"
   ]
  },
  {
   "cell_type": "code",
   "execution_count": null,
   "metadata": {},
   "outputs": [],
   "source": [
    "from sklearn.ensemble import RandomForestRegressor\n",
    "from sklearn.metrics import mean_squared_error, r2_score\n",
    "\n",
    "model = RandomForestRegressor(n_estimators=100, max_depth=None, random_state=42)\n",
    "\n",
    "model.fit(x_train, y_train)\n",
    "\n",
    "y_pred = model.predict(x_test)\n",
    "\n",
    "mse = mean_squared_error(y_test, y_pred)\n",
    "r2 = r2_score(y_test, y_pred)\n",
    "print(\"Mean Squared Error without reduction: \", mse)\n",
    "print(\"R2 Score without reduction: \", r2)"
   ]
  },
  {
   "cell_type": "code",
   "execution_count": null,
   "metadata": {},
   "outputs": [],
   "source": [
    "# train model after removing redundant attributes\n",
    "\n",
    "essential = essential_attrs\n",
    "redundant = [node for node in G.nodes() if node not in essential]\n",
    "print(f\"{len(redundant)/len(x.columns) * 100}% Reduction\")\n",
    "\n",
    "x1 = x.drop(columns=redundant)"
   ]
  },
  {
   "cell_type": "code",
   "execution_count": null,
   "metadata": {},
   "outputs": [],
   "source": [
    "x_train = x1.iloc[:train_size, :]\n",
    "x_test = x1.iloc[train_size:, :]"
   ]
  },
  {
   "cell_type": "code",
   "execution_count": 318,
   "metadata": {},
   "outputs": [
    {
     "name": "stdout",
     "output_type": "stream",
     "text": [
      "Mean Squared Error:  1.0242232975316345e-11\n",
      "R2 Score:  0.9870473418114519\n"
     ]
    }
   ],
   "source": [
    "from sklearn.ensemble import RandomForestRegressor\n",
    "from sklearn.metrics import mean_squared_error, r2_score\n",
    "\n",
    "model = RandomForestRegressor(n_estimators=100, max_depth=None, random_state=42)\n",
    "\n",
    "model.fit(x_train, y_train)\n",
    "\n",
    "y_pred = model.predict(x_test)\n",
    "\n",
    "mse = mean_squared_error(y_test, y_pred)\n",
    "r2 = r2_score(y_test, y_pred)\n",
    "print(\"Mean Squared Error: \", mse)\n",
    "print(\"R2 Score: \", r2)"
   ]
  }
 ],
 "metadata": {
  "kernelspec": {
   "display_name": "Python 3",
   "language": "python",
   "name": "python3"
  },
  "language_info": {
   "codemirror_mode": {
    "name": "ipython",
    "version": 3
   },
   "file_extension": ".py",
   "mimetype": "text/x-python",
   "name": "python",
   "nbconvert_exporter": "python",
   "pygments_lexer": "ipython3",
   "version": "3.10.8"
  }
 },
 "nbformat": 4,
 "nbformat_minor": 2
}
